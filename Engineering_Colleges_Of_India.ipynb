{
 "cells": [
  {
   "cell_type": "markdown",
   "metadata": {},
   "source": [
    "## DATA ANALYSIS OF ENGINEERING COLLEGES IN INDIA"
   ]
  },
  {
   "cell_type": "markdown",
   "metadata": {},
   "source": [
    "### **Question 1**\n",
    "* **How many** engineering colleges are there in the dataset?\n",
    "* Let’s **slice** the count of colleges by : \n",
    "    * Type of entrance exam\n",
    "    * Ratings\n",
    "    * Sector\n",
    "* What **% of entrance exams** lead to at least **80%** of admissions in India?\n",
    "* Do you encounter **missing values** in the data?\n",
    "  * If yes, list down column wise missing values in percentage\n",
    "  * For which columns % of missing values is **> 20%**?\n",
    "    * How do you plan to **impute** the missing values?\n",
    "    * Discuss the strategies you would use to do the above task"
   ]
  },
  {
   "cell_type": "markdown",
   "metadata": {},
   "source": [
    "### **Question 2** \n",
    "* Let’s analyze the **distribution** of fees. \n",
    "  * How does the distribution look like?\n",
    "  * What is the **type** of distribution?\n",
    "* Now, try to analyze the distribution of reviews by college **ratings**\n",
    "  * Do you think colleges which have **good ratings** have significantly **higher** fees than the others?\n",
    "  * **Note :** Logic to classify colleges based on ratings : \n",
    "    * Consider colleges with **rating >= AAAA** as those with good ratings else decent\n",
    "* Now, repeat the above activity by type of college (**Private** vs **Public/Govt**)\n",
    "  * Do you think Private colleges have significantly higher fee than the others?\n",
    "\n",
    "* **Important Note :** If you observe in couple of questions above, we are asking to establish whether the difference in fees between 2 categories is significantly higher or lower. What do you mean by significant here? How wide he difference is significant and not happening just by chance?\n",
    "* **Hint :** Think Statistics!\n"
   ]
  },
  {
   "cell_type": "code",
   "execution_count": 2,
   "metadata": {},
   "outputs": [],
   "source": [
    "import numpy as np\n",
    "import pandas as pd\n",
    "import matplotlib.pyplot as plt\n",
    "%matplotlib inline\n",
    "import seaborn as sns\n",
    "from sklearn.neighbors import KNeighborsClassifier\n",
    "from sklearn.impute import SimpleImputer"
   ]
  },
  {
   "cell_type": "code",
   "execution_count": 31,
   "metadata": {},
   "outputs": [
    {
     "name": "stdout",
     "output_type": "stream",
     "text": [
      "<class 'pandas.core.frame.DataFrame'>\n",
      "RangeIndex: 6976 entries, 0 to 6975\n",
      "Data columns (total 10 columns):\n",
      "Institute_Name    6976 non-null object\n",
      "Location          6976 non-null object\n",
      "Sector            6976 non-null object\n",
      "Review_Count      6976 non-null int64\n",
      "Fee               6976 non-null int64\n",
      "Exam              2772 non-null object\n",
      "Rating            6976 non-null object\n",
      "Latitude          6976 non-null float64\n",
      "Longitude         6976 non-null float64\n",
      "State             6976 non-null object\n",
      "dtypes: float64(2), int64(2), object(6)\n",
      "memory usage: 545.1+ KB\n"
     ]
    }
   ],
   "source": [
    "df = pd.read_csv('Engineering_colleges.csv')\n",
    "df.info()"
   ]
  },
  {
   "cell_type": "code",
   "execution_count": 4,
   "metadata": {},
   "outputs": [
    {
     "data": {
      "text/html": [
       "<div>\n",
       "<style scoped>\n",
       "    .dataframe tbody tr th:only-of-type {\n",
       "        vertical-align: middle;\n",
       "    }\n",
       "\n",
       "    .dataframe tbody tr th {\n",
       "        vertical-align: top;\n",
       "    }\n",
       "\n",
       "    .dataframe thead th {\n",
       "        text-align: right;\n",
       "    }\n",
       "</style>\n",
       "<table border=\"1\" class=\"dataframe\">\n",
       "  <thead>\n",
       "    <tr style=\"text-align: right;\">\n",
       "      <th></th>\n",
       "      <th>Institute_Name</th>\n",
       "      <th>Location</th>\n",
       "      <th>Sector</th>\n",
       "      <th>Review_Count</th>\n",
       "      <th>Fee</th>\n",
       "      <th>Exam</th>\n",
       "      <th>Rating</th>\n",
       "      <th>Latitude</th>\n",
       "      <th>Longitude</th>\n",
       "      <th>State</th>\n",
       "    </tr>\n",
       "  </thead>\n",
       "  <tbody>\n",
       "    <tr>\n",
       "      <th>0</th>\n",
       "      <td>University of Petroleum and Energy Studies</td>\n",
       "      <td>Dehradun</td>\n",
       "      <td>Private</td>\n",
       "      <td>56</td>\n",
       "      <td>0</td>\n",
       "      <td>NaN</td>\n",
       "      <td>AAAA (Very Good)</td>\n",
       "      <td>30.325565</td>\n",
       "      <td>78.043681</td>\n",
       "      <td>Uttarakhand</td>\n",
       "    </tr>\n",
       "    <tr>\n",
       "      <th>1</th>\n",
       "      <td>Manipal Institute of Technology</td>\n",
       "      <td>Manipal</td>\n",
       "      <td>Private</td>\n",
       "      <td>153</td>\n",
       "      <td>1540000</td>\n",
       "      <td>MET</td>\n",
       "      <td>AAAA (Very Good)</td>\n",
       "      <td>13.351972</td>\n",
       "      <td>74.787031</td>\n",
       "      <td>Karnataka</td>\n",
       "    </tr>\n",
       "    <tr>\n",
       "      <th>2</th>\n",
       "      <td>SRM Institute of Science and Technology</td>\n",
       "      <td>Kattankulathur</td>\n",
       "      <td>Private</td>\n",
       "      <td>328</td>\n",
       "      <td>1000000</td>\n",
       "      <td>JEE Main</td>\n",
       "      <td>AAAA (Very Good)</td>\n",
       "      <td>12.816150</td>\n",
       "      <td>80.036770</td>\n",
       "      <td>Tamil Nadu</td>\n",
       "    </tr>\n",
       "    <tr>\n",
       "      <th>3</th>\n",
       "      <td>Vellore Institute of Technology</td>\n",
       "      <td>Vellore</td>\n",
       "      <td>Private</td>\n",
       "      <td>350</td>\n",
       "      <td>780000</td>\n",
       "      <td>VITEEE</td>\n",
       "      <td>AAAA (Very Good)</td>\n",
       "      <td>12.907175</td>\n",
       "      <td>79.130969</td>\n",
       "      <td>Tamil Nadu</td>\n",
       "    </tr>\n",
       "    <tr>\n",
       "      <th>4</th>\n",
       "      <td>Jain University</td>\n",
       "      <td>Ramanagara</td>\n",
       "      <td>Private</td>\n",
       "      <td>58</td>\n",
       "      <td>0</td>\n",
       "      <td>NaN</td>\n",
       "      <td>No Rating</td>\n",
       "      <td>12.725277</td>\n",
       "      <td>77.280480</td>\n",
       "      <td>Karnataka</td>\n",
       "    </tr>\n",
       "  </tbody>\n",
       "</table>\n",
       "</div>"
      ],
      "text/plain": [
       "                               Institute_Name        Location   Sector  \\\n",
       "0  University of Petroleum and Energy Studies        Dehradun  Private   \n",
       "1             Manipal Institute of Technology         Manipal  Private   \n",
       "2     SRM Institute of Science and Technology  Kattankulathur  Private   \n",
       "3             Vellore Institute of Technology         Vellore  Private   \n",
       "4                             Jain University      Ramanagara  Private   \n",
       "\n",
       "   Review_Count      Fee        Exam            Rating   Latitude  Longitude  \\\n",
       "0            56        0         NaN  AAAA (Very Good)  30.325565  78.043681   \n",
       "1           153  1540000        MET   AAAA (Very Good)  13.351972  74.787031   \n",
       "2           328  1000000   JEE Main   AAAA (Very Good)  12.816150  80.036770   \n",
       "3           350   780000     VITEEE   AAAA (Very Good)  12.907175  79.130969   \n",
       "4            58        0         NaN         No Rating  12.725277  77.280480   \n",
       "\n",
       "         State  \n",
       "0  Uttarakhand  \n",
       "1    Karnataka  \n",
       "2   Tamil Nadu  \n",
       "3   Tamil Nadu  \n",
       "4    Karnataka  "
      ]
     },
     "execution_count": 4,
     "metadata": {},
     "output_type": "execute_result"
    }
   ],
   "source": [
    "df.head()"
   ]
  },
  {
   "cell_type": "code",
   "execution_count": 32,
   "metadata": {},
   "outputs": [
    {
     "data": {
      "text/plain": [
       "(6976, 10)"
      ]
     },
     "execution_count": 32,
     "metadata": {},
     "output_type": "execute_result"
    }
   ],
   "source": [
    "df.shape"
   ]
  },
  {
   "cell_type": "code",
   "execution_count": 7,
   "metadata": {},
   "outputs": [],
   "source": [
    "df_o = df.copy()"
   ]
  },
  {
   "cell_type": "code",
   "execution_count": 17,
   "metadata": {},
   "outputs": [
    {
     "data": {
      "text/plain": [
       "(6976, 10)"
      ]
     },
     "execution_count": 17,
     "metadata": {},
     "output_type": "execute_result"
    }
   ],
   "source": [
    "df_o.shape"
   ]
  },
  {
   "cell_type": "markdown",
   "metadata": {},
   "source": [
    "#### Dropping duplicates from the data set:"
   ]
  },
  {
   "cell_type": "code",
   "execution_count": 33,
   "metadata": {},
   "outputs": [],
   "source": [
    "# Removing Alberta as it is not a state of India\n",
    "df = df[df['State'] != 'Alberta']"
   ]
  },
  {
   "cell_type": "code",
   "execution_count": 35,
   "metadata": {},
   "outputs": [],
   "source": [
    "df_duplicates = df[df[['Latitude', 'Longitude','Institute_Name']].duplicated()]"
   ]
  },
  {
   "cell_type": "code",
   "execution_count": 49,
   "metadata": {},
   "outputs": [],
   "source": [
    "# df_duplicates.to_csv(\"C:/Users/nmishra2/Desktop/Data Files\")"
   ]
  },
  {
   "cell_type": "code",
   "execution_count": 50,
   "metadata": {},
   "outputs": [
    {
     "data": {
      "text/html": [
       "<div>\n",
       "<style scoped>\n",
       "    .dataframe tbody tr th:only-of-type {\n",
       "        vertical-align: middle;\n",
       "    }\n",
       "\n",
       "    .dataframe tbody tr th {\n",
       "        vertical-align: top;\n",
       "    }\n",
       "\n",
       "    .dataframe thead th {\n",
       "        text-align: right;\n",
       "    }\n",
       "</style>\n",
       "<table border=\"1\" class=\"dataframe\">\n",
       "  <thead>\n",
       "    <tr style=\"text-align: right;\">\n",
       "      <th></th>\n",
       "      <th>Institute_Name</th>\n",
       "      <th>Location</th>\n",
       "      <th>Sector</th>\n",
       "      <th>Review_Count</th>\n",
       "      <th>Fee</th>\n",
       "      <th>Exam</th>\n",
       "      <th>Rating</th>\n",
       "      <th>Latitude</th>\n",
       "      <th>Longitude</th>\n",
       "      <th>State</th>\n",
       "    </tr>\n",
       "  </thead>\n",
       "  <tbody>\n",
       "    <tr>\n",
       "      <th>10</th>\n",
       "      <td>Manipal Institute of Technology</td>\n",
       "      <td>Manipal</td>\n",
       "      <td>Private</td>\n",
       "      <td>153</td>\n",
       "      <td>1540000</td>\n",
       "      <td>NaN</td>\n",
       "      <td>AAAA (Very Good)</td>\n",
       "      <td>13.351972</td>\n",
       "      <td>74.787031</td>\n",
       "      <td>Karnataka</td>\n",
       "    </tr>\n",
       "    <tr>\n",
       "      <th>12</th>\n",
       "      <td>SRM Institute of Science and Technology</td>\n",
       "      <td>Kattankulathur</td>\n",
       "      <td>Private</td>\n",
       "      <td>328</td>\n",
       "      <td>1000000</td>\n",
       "      <td>JEE Main</td>\n",
       "      <td>AAAA (Very Good)</td>\n",
       "      <td>12.816150</td>\n",
       "      <td>80.036770</td>\n",
       "      <td>Tamil Nadu</td>\n",
       "    </tr>\n",
       "    <tr>\n",
       "      <th>13</th>\n",
       "      <td>Vellore Institute of Technology</td>\n",
       "      <td>Vellore</td>\n",
       "      <td>Private</td>\n",
       "      <td>350</td>\n",
       "      <td>780000</td>\n",
       "      <td>VITEEE</td>\n",
       "      <td>AAAA (Very Good)</td>\n",
       "      <td>12.907175</td>\n",
       "      <td>79.130969</td>\n",
       "      <td>Tamil Nadu</td>\n",
       "    </tr>\n",
       "    <tr>\n",
       "      <th>297</th>\n",
       "      <td>Jaypee Institute of Information Technology</td>\n",
       "      <td>Noida</td>\n",
       "      <td>Private</td>\n",
       "      <td>119</td>\n",
       "      <td>994500</td>\n",
       "      <td>JEE Main</td>\n",
       "      <td>AAAA (Very Good)</td>\n",
       "      <td>28.572644</td>\n",
       "      <td>77.354761</td>\n",
       "      <td>Uttar Pradesh</td>\n",
       "    </tr>\n",
       "    <tr>\n",
       "      <th>696</th>\n",
       "      <td>Jain University</td>\n",
       "      <td>Ramanagara</td>\n",
       "      <td>Private</td>\n",
       "      <td>58</td>\n",
       "      <td>0</td>\n",
       "      <td>NaN</td>\n",
       "      <td>No Rating</td>\n",
       "      <td>12.725277</td>\n",
       "      <td>77.280480</td>\n",
       "      <td>Karnataka</td>\n",
       "    </tr>\n",
       "    <tr>\n",
       "      <th>1020</th>\n",
       "      <td>Government Polytechnic</td>\n",
       "      <td>Dhanbad</td>\n",
       "      <td>Public/Government</td>\n",
       "      <td>0</td>\n",
       "      <td>7200</td>\n",
       "      <td>NaN</td>\n",
       "      <td>No Rating</td>\n",
       "      <td>23.795281</td>\n",
       "      <td>86.430964</td>\n",
       "      <td>Jharkhand</td>\n",
       "    </tr>\n",
       "    <tr>\n",
       "      <th>1188</th>\n",
       "      <td>Government Polytechnic</td>\n",
       "      <td>Hisar</td>\n",
       "      <td>Public/Government</td>\n",
       "      <td>0</td>\n",
       "      <td>17850</td>\n",
       "      <td>NaN</td>\n",
       "      <td>No Rating</td>\n",
       "      <td>29.168807</td>\n",
       "      <td>75.746110</td>\n",
       "      <td>Haryana</td>\n",
       "    </tr>\n",
       "    <tr>\n",
       "      <th>1563</th>\n",
       "      <td>Government Polytechnic</td>\n",
       "      <td>Gorakhpur</td>\n",
       "      <td>Public/Government</td>\n",
       "      <td>0</td>\n",
       "      <td>0</td>\n",
       "      <td>NaN</td>\n",
       "      <td>No Rating</td>\n",
       "      <td>26.760022</td>\n",
       "      <td>83.366813</td>\n",
       "      <td>Uttar Pradesh</td>\n",
       "    </tr>\n",
       "    <tr>\n",
       "      <th>1948</th>\n",
       "      <td>Government Polytechnic</td>\n",
       "      <td>Dhanbad</td>\n",
       "      <td>Public/Government</td>\n",
       "      <td>0</td>\n",
       "      <td>23635</td>\n",
       "      <td>NaN</td>\n",
       "      <td>No Rating</td>\n",
       "      <td>23.795281</td>\n",
       "      <td>86.430964</td>\n",
       "      <td>Jharkhand</td>\n",
       "    </tr>\n",
       "    <tr>\n",
       "      <th>2069</th>\n",
       "      <td>PES Institute of Technology</td>\n",
       "      <td>Bangalore</td>\n",
       "      <td>Private</td>\n",
       "      <td>14</td>\n",
       "      <td>30000</td>\n",
       "      <td>NaN</td>\n",
       "      <td>No Rating</td>\n",
       "      <td>12.979120</td>\n",
       "      <td>77.591300</td>\n",
       "      <td>Karnataka</td>\n",
       "    </tr>\n",
       "    <tr>\n",
       "      <th>2135</th>\n",
       "      <td>Government Polytechnic</td>\n",
       "      <td>Lucknow</td>\n",
       "      <td>Public/Government</td>\n",
       "      <td>0</td>\n",
       "      <td>33630</td>\n",
       "      <td>JEECUP</td>\n",
       "      <td>No Rating</td>\n",
       "      <td>26.838100</td>\n",
       "      <td>80.934600</td>\n",
       "      <td>Uttar Pradesh</td>\n",
       "    </tr>\n",
       "    <tr>\n",
       "      <th>2267</th>\n",
       "      <td>College of Engineering</td>\n",
       "      <td>Thiruvananthapuram</td>\n",
       "      <td>Public/Government</td>\n",
       "      <td>0</td>\n",
       "      <td>138305</td>\n",
       "      <td>KEAM</td>\n",
       "      <td>No Rating</td>\n",
       "      <td>8.505891</td>\n",
       "      <td>76.957048</td>\n",
       "      <td>Kerala</td>\n",
       "    </tr>\n",
       "    <tr>\n",
       "      <th>2761</th>\n",
       "      <td>Guru Nanak Institute of Technology</td>\n",
       "      <td>Ibrahimpatnam</td>\n",
       "      <td>Private</td>\n",
       "      <td>2</td>\n",
       "      <td>213000</td>\n",
       "      <td>NaN</td>\n",
       "      <td>No Rating</td>\n",
       "      <td>16.655476</td>\n",
       "      <td>80.495402</td>\n",
       "      <td>Andhra Pradesh</td>\n",
       "    </tr>\n",
       "    <tr>\n",
       "      <th>3197</th>\n",
       "      <td>Government Polytechnic</td>\n",
       "      <td>Dehradun</td>\n",
       "      <td>Public/Government</td>\n",
       "      <td>0</td>\n",
       "      <td>38700</td>\n",
       "      <td>NaN</td>\n",
       "      <td>No Rating</td>\n",
       "      <td>30.325565</td>\n",
       "      <td>78.043681</td>\n",
       "      <td>Uttarakhand</td>\n",
       "    </tr>\n",
       "    <tr>\n",
       "      <th>4017</th>\n",
       "      <td>Gayatri Vidya Parishad College for Degree and ...</td>\n",
       "      <td>Visakhapatnam</td>\n",
       "      <td>Private</td>\n",
       "      <td>1</td>\n",
       "      <td>228000</td>\n",
       "      <td>AP EAMCET</td>\n",
       "      <td>No Rating</td>\n",
       "      <td>17.723128</td>\n",
       "      <td>83.301284</td>\n",
       "      <td>Andhra Pradesh</td>\n",
       "    </tr>\n",
       "    <tr>\n",
       "      <th>4185</th>\n",
       "      <td>Tudi Ram Reddy Institute of Technology and Sci...</td>\n",
       "      <td>Gudur</td>\n",
       "      <td>Private</td>\n",
       "      <td>0</td>\n",
       "      <td>652000</td>\n",
       "      <td>NaN</td>\n",
       "      <td>No Rating</td>\n",
       "      <td>16.485126</td>\n",
       "      <td>77.241526</td>\n",
       "      <td>Karnataka</td>\n",
       "    </tr>\n",
       "    <tr>\n",
       "      <th>4190</th>\n",
       "      <td>Apex Group of Institutions</td>\n",
       "      <td>Jaipur</td>\n",
       "      <td>Private</td>\n",
       "      <td>1</td>\n",
       "      <td>280000</td>\n",
       "      <td>NaN</td>\n",
       "      <td>No Rating</td>\n",
       "      <td>26.916194</td>\n",
       "      <td>75.820349</td>\n",
       "      <td>Rajasthan</td>\n",
       "    </tr>\n",
       "    <tr>\n",
       "      <th>4306</th>\n",
       "      <td>Paavai Polytechnic College</td>\n",
       "      <td>Ananthakrishnarayasamudram</td>\n",
       "      <td>Private</td>\n",
       "      <td>0</td>\n",
       "      <td>65100</td>\n",
       "      <td>NaN</td>\n",
       "      <td>No Rating</td>\n",
       "      <td>11.218900</td>\n",
       "      <td>78.167400</td>\n",
       "      <td>Tamil Nadu</td>\n",
       "    </tr>\n",
       "    <tr>\n",
       "      <th>5358</th>\n",
       "      <td>Shaheed Udham Singh Engineering College</td>\n",
       "      <td>Tangori</td>\n",
       "      <td>Private</td>\n",
       "      <td>0</td>\n",
       "      <td>370800</td>\n",
       "      <td>NaN</td>\n",
       "      <td>No Rating</td>\n",
       "      <td>30.594900</td>\n",
       "      <td>76.705900</td>\n",
       "      <td>Punjab</td>\n",
       "    </tr>\n",
       "    <tr>\n",
       "      <th>5363</th>\n",
       "      <td>Koustuv Institute of Self Domain</td>\n",
       "      <td>Bhubaneshwar</td>\n",
       "      <td>Private</td>\n",
       "      <td>1</td>\n",
       "      <td>268000</td>\n",
       "      <td>JEE Main</td>\n",
       "      <td>No Rating</td>\n",
       "      <td>20.266777</td>\n",
       "      <td>85.843559</td>\n",
       "      <td>Odisha</td>\n",
       "    </tr>\n",
       "    <tr>\n",
       "      <th>5423</th>\n",
       "      <td>Hindustan Institute of Engineering Technology</td>\n",
       "      <td>Salamangalam</td>\n",
       "      <td>Private</td>\n",
       "      <td>1</td>\n",
       "      <td>90000</td>\n",
       "      <td>NaN</td>\n",
       "      <td>No Rating</td>\n",
       "      <td>12.887130</td>\n",
       "      <td>80.016230</td>\n",
       "      <td>Tamil Nadu</td>\n",
       "    </tr>\n",
       "    <tr>\n",
       "      <th>5880</th>\n",
       "      <td>Rajasthan Polytechnic College</td>\n",
       "      <td>Jhunjhunu</td>\n",
       "      <td>Private</td>\n",
       "      <td>0</td>\n",
       "      <td>84000</td>\n",
       "      <td>NaN</td>\n",
       "      <td>No Rating</td>\n",
       "      <td>28.125650</td>\n",
       "      <td>75.400410</td>\n",
       "      <td>Rajasthan</td>\n",
       "    </tr>\n",
       "    <tr>\n",
       "      <th>5951</th>\n",
       "      <td>Sri Krishna Polytechnic</td>\n",
       "      <td>Bangalore</td>\n",
       "      <td>Private</td>\n",
       "      <td>0</td>\n",
       "      <td>60000</td>\n",
       "      <td>NaN</td>\n",
       "      <td>No Rating</td>\n",
       "      <td>12.979120</td>\n",
       "      <td>77.591300</td>\n",
       "      <td>Karnataka</td>\n",
       "    </tr>\n",
       "    <tr>\n",
       "      <th>6168</th>\n",
       "      <td>Institute of Information Technology and Manage...</td>\n",
       "      <td>Gwalior</td>\n",
       "      <td>Private</td>\n",
       "      <td>0</td>\n",
       "      <td>0</td>\n",
       "      <td>NaN</td>\n",
       "      <td>No Rating</td>\n",
       "      <td>26.203725</td>\n",
       "      <td>78.157363</td>\n",
       "      <td>Madhya Pradesh</td>\n",
       "    </tr>\n",
       "    <tr>\n",
       "      <th>6945</th>\n",
       "      <td>Government Polytechnic College</td>\n",
       "      <td>Chennai</td>\n",
       "      <td>Public/Government</td>\n",
       "      <td>0</td>\n",
       "      <td>6222</td>\n",
       "      <td>NaN</td>\n",
       "      <td>No Rating</td>\n",
       "      <td>13.080172</td>\n",
       "      <td>80.283833</td>\n",
       "      <td>Tamil Nadu</td>\n",
       "    </tr>\n",
       "    <tr>\n",
       "      <th>6964</th>\n",
       "      <td>Government Polytechnic</td>\n",
       "      <td>Warangal</td>\n",
       "      <td>Public/Government</td>\n",
       "      <td>0</td>\n",
       "      <td>0</td>\n",
       "      <td>NaN</td>\n",
       "      <td>No Rating</td>\n",
       "      <td>17.980609</td>\n",
       "      <td>79.598212</td>\n",
       "      <td>Telangana</td>\n",
       "    </tr>\n",
       "  </tbody>\n",
       "</table>\n",
       "</div>"
      ],
      "text/plain": [
       "                                         Institute_Name  \\\n",
       "10                      Manipal Institute of Technology   \n",
       "12              SRM Institute of Science and Technology   \n",
       "13                      Vellore Institute of Technology   \n",
       "297          Jaypee Institute of Information Technology   \n",
       "696                                     Jain University   \n",
       "1020                             Government Polytechnic   \n",
       "1188                             Government Polytechnic   \n",
       "1563                             Government Polytechnic   \n",
       "1948                             Government Polytechnic   \n",
       "2069                        PES Institute of Technology   \n",
       "2135                             Government Polytechnic   \n",
       "2267                             College of Engineering   \n",
       "2761                 Guru Nanak Institute of Technology   \n",
       "3197                             Government Polytechnic   \n",
       "4017  Gayatri Vidya Parishad College for Degree and ...   \n",
       "4185  Tudi Ram Reddy Institute of Technology and Sci...   \n",
       "4190                         Apex Group of Institutions   \n",
       "4306                         Paavai Polytechnic College   \n",
       "5358            Shaheed Udham Singh Engineering College   \n",
       "5363                   Koustuv Institute of Self Domain   \n",
       "5423      Hindustan Institute of Engineering Technology   \n",
       "5880                      Rajasthan Polytechnic College   \n",
       "5951                            Sri Krishna Polytechnic   \n",
       "6168  Institute of Information Technology and Manage...   \n",
       "6945                     Government Polytechnic College   \n",
       "6964                             Government Polytechnic   \n",
       "\n",
       "                        Location             Sector  Review_Count      Fee  \\\n",
       "10                       Manipal            Private           153  1540000   \n",
       "12                Kattankulathur            Private           328  1000000   \n",
       "13                       Vellore            Private           350   780000   \n",
       "297                        Noida            Private           119   994500   \n",
       "696                   Ramanagara            Private            58        0   \n",
       "1020                     Dhanbad  Public/Government             0     7200   \n",
       "1188                       Hisar  Public/Government             0    17850   \n",
       "1563                   Gorakhpur  Public/Government             0        0   \n",
       "1948                     Dhanbad  Public/Government             0    23635   \n",
       "2069                   Bangalore            Private            14    30000   \n",
       "2135                     Lucknow  Public/Government             0    33630   \n",
       "2267          Thiruvananthapuram  Public/Government             0   138305   \n",
       "2761               Ibrahimpatnam            Private             2   213000   \n",
       "3197                    Dehradun  Public/Government             0    38700   \n",
       "4017               Visakhapatnam            Private             1   228000   \n",
       "4185                       Gudur            Private             0   652000   \n",
       "4190                      Jaipur            Private             1   280000   \n",
       "4306  Ananthakrishnarayasamudram            Private             0    65100   \n",
       "5358                     Tangori            Private             0   370800   \n",
       "5363                Bhubaneshwar            Private             1   268000   \n",
       "5423                Salamangalam            Private             1    90000   \n",
       "5880                   Jhunjhunu            Private             0    84000   \n",
       "5951                   Bangalore            Private             0    60000   \n",
       "6168                     Gwalior            Private             0        0   \n",
       "6945                     Chennai  Public/Government             0     6222   \n",
       "6964                    Warangal  Public/Government             0        0   \n",
       "\n",
       "             Exam            Rating   Latitude  Longitude           State  \n",
       "10            NaN  AAAA (Very Good)  13.351972  74.787031       Karnataka  \n",
       "12      JEE Main   AAAA (Very Good)  12.816150  80.036770      Tamil Nadu  \n",
       "13        VITEEE   AAAA (Very Good)  12.907175  79.130969      Tamil Nadu  \n",
       "297     JEE Main   AAAA (Very Good)  28.572644  77.354761   Uttar Pradesh  \n",
       "696           NaN         No Rating  12.725277  77.280480       Karnataka  \n",
       "1020          NaN         No Rating  23.795281  86.430964       Jharkhand  \n",
       "1188          NaN         No Rating  29.168807  75.746110         Haryana  \n",
       "1563          NaN         No Rating  26.760022  83.366813   Uttar Pradesh  \n",
       "1948          NaN         No Rating  23.795281  86.430964       Jharkhand  \n",
       "2069          NaN         No Rating  12.979120  77.591300       Karnataka  \n",
       "2135      JEECUP          No Rating  26.838100  80.934600   Uttar Pradesh  \n",
       "2267        KEAM          No Rating   8.505891  76.957048          Kerala  \n",
       "2761          NaN         No Rating  16.655476  80.495402  Andhra Pradesh  \n",
       "3197          NaN         No Rating  30.325565  78.043681     Uttarakhand  \n",
       "4017   AP EAMCET          No Rating  17.723128  83.301284  Andhra Pradesh  \n",
       "4185          NaN         No Rating  16.485126  77.241526       Karnataka  \n",
       "4190          NaN         No Rating  26.916194  75.820349       Rajasthan  \n",
       "4306          NaN         No Rating  11.218900  78.167400      Tamil Nadu  \n",
       "5358          NaN         No Rating  30.594900  76.705900          Punjab  \n",
       "5363    JEE Main          No Rating  20.266777  85.843559          Odisha  \n",
       "5423          NaN         No Rating  12.887130  80.016230      Tamil Nadu  \n",
       "5880          NaN         No Rating  28.125650  75.400410       Rajasthan  \n",
       "5951          NaN         No Rating  12.979120  77.591300       Karnataka  \n",
       "6168          NaN         No Rating  26.203725  78.157363  Madhya Pradesh  \n",
       "6945          NaN         No Rating  13.080172  80.283833      Tamil Nadu  \n",
       "6964          NaN         No Rating  17.980609  79.598212       Telangana  "
      ]
     },
     "execution_count": 50,
     "metadata": {},
     "output_type": "execute_result"
    }
   ],
   "source": [
    "df_duplicates"
   ]
  },
  {
   "cell_type": "code",
   "execution_count": 28,
   "metadata": {},
   "outputs": [],
   "source": [
    "df.drop_duplicates(subset=['Latitude', 'Longitude','Institute_Name'], keep='first' ,inplace = True)"
   ]
  },
  {
   "cell_type": "markdown",
   "metadata": {},
   "source": [
    "#### Lets drop the columns which are not needed for the analysis:  Institute_Name, Location, Latitude, and Longitude"
   ]
  },
  {
   "cell_type": "code",
   "execution_count": 7,
   "metadata": {},
   "outputs": [],
   "source": [
    "df = df[['State', 'Sector', 'Review_Count', 'Fee', 'Exam', 'Rating']]\n",
    "df.reset_index(inplace = True)"
   ]
  },
  {
   "cell_type": "markdown",
   "metadata": {},
   "source": [
    "**How many engineering colleges are there in the dataset?**"
   ]
  },
  {
   "cell_type": "code",
   "execution_count": 8,
   "metadata": {},
   "outputs": [
    {
     "name": "stdout",
     "output_type": "stream",
     "text": [
      "Total number of engineering colleges in the data set are 6949\n"
     ]
    }
   ],
   "source": [
    "# Total number of engineering colleges in the data set\n",
    "m = len(df)\n",
    "print(\"Total number of engineering colleges in the data set are\", m)"
   ]
  },
  {
   "cell_type": "markdown",
   "metadata": {},
   "source": [
    "**Types of entrance exam**"
   ]
  },
  {
   "cell_type": "code",
   "execution_count": 9,
   "metadata": {},
   "outputs": [
    {
     "data": {
      "text/html": [
       "<div>\n",
       "<style scoped>\n",
       "    .dataframe tbody tr th:only-of-type {\n",
       "        vertical-align: middle;\n",
       "    }\n",
       "\n",
       "    .dataframe tbody tr th {\n",
       "        vertical-align: top;\n",
       "    }\n",
       "\n",
       "    .dataframe thead th {\n",
       "        text-align: right;\n",
       "    }\n",
       "</style>\n",
       "<table border=\"1\" class=\"dataframe\">\n",
       "  <thead>\n",
       "    <tr style=\"text-align: right;\">\n",
       "      <th></th>\n",
       "      <th>Entrance_Exam</th>\n",
       "      <th>Total_colleges</th>\n",
       "    </tr>\n",
       "  </thead>\n",
       "  <tbody>\n",
       "    <tr>\n",
       "      <th>0</th>\n",
       "      <td>JEE Main</td>\n",
       "      <td>1317</td>\n",
       "    </tr>\n",
       "    <tr>\n",
       "      <th>1</th>\n",
       "      <td>AP EAMCET</td>\n",
       "      <td>259</td>\n",
       "    </tr>\n",
       "    <tr>\n",
       "      <th>2</th>\n",
       "      <td>TS EAMCET</td>\n",
       "      <td>165</td>\n",
       "    </tr>\n",
       "    <tr>\n",
       "      <th>3</th>\n",
       "      <td>NATA</td>\n",
       "      <td>160</td>\n",
       "    </tr>\n",
       "    <tr>\n",
       "      <th>4</th>\n",
       "      <td>UPSEE</td>\n",
       "      <td>150</td>\n",
       "    </tr>\n",
       "  </tbody>\n",
       "</table>\n",
       "</div>"
      ],
      "text/plain": [
       "  Entrance_Exam  Total_colleges\n",
       "0     JEE Main             1317\n",
       "1    AP EAMCET              259\n",
       "2    TS EAMCET              165\n",
       "3         NATA              160\n",
       "4        UPSEE              150"
      ]
     },
     "execution_count": 9,
     "metadata": {},
     "output_type": "execute_result"
    }
   ],
   "source": [
    "df_exam = df.Exam.value_counts().reset_index()\n",
    "df_exam.columns=['Entrance_Exam', 'Total_colleges']\n",
    "df_exam.head()"
   ]
  },
  {
   "cell_type": "code",
   "execution_count": 10,
   "metadata": {},
   "outputs": [
    {
     "data": {
      "text/plain": [
       "47.63110307414105"
      ]
     },
     "execution_count": 10,
     "metadata": {},
     "output_type": "execute_result"
    }
   ],
   "source": [
    "(df_exam['Total_colleges'][0]/df_exam['Total_colleges'].sum())*100"
   ]
  },
  {
   "cell_type": "markdown",
   "metadata": {},
   "source": [
    "Here we can see that we have lot of missing data, we have values only for 2765 data. So we need to impute the missing 4184 data ."
   ]
  },
  {
   "cell_type": "markdown",
   "metadata": {},
   "source": [
    "* **Types of ratings of the colleges**"
   ]
  },
  {
   "cell_type": "code",
   "execution_count": 11,
   "metadata": {},
   "outputs": [
    {
     "data": {
      "text/html": [
       "<div>\n",
       "<style scoped>\n",
       "    .dataframe tbody tr th:only-of-type {\n",
       "        vertical-align: middle;\n",
       "    }\n",
       "\n",
       "    .dataframe tbody tr th {\n",
       "        vertical-align: top;\n",
       "    }\n",
       "\n",
       "    .dataframe thead th {\n",
       "        text-align: right;\n",
       "    }\n",
       "</style>\n",
       "<table border=\"1\" class=\"dataframe\">\n",
       "  <thead>\n",
       "    <tr style=\"text-align: right;\">\n",
       "      <th></th>\n",
       "      <th>Rating</th>\n",
       "      <th>Total_colleges</th>\n",
       "    </tr>\n",
       "  </thead>\n",
       "  <tbody>\n",
       "    <tr>\n",
       "      <th>0</th>\n",
       "      <td>No Rating</td>\n",
       "      <td>6409</td>\n",
       "    </tr>\n",
       "    <tr>\n",
       "      <th>1</th>\n",
       "      <td>AAA+ (Good)</td>\n",
       "      <td>217</td>\n",
       "    </tr>\n",
       "    <tr>\n",
       "      <th>2</th>\n",
       "      <td>AAA (Above Average)</td>\n",
       "      <td>159</td>\n",
       "    </tr>\n",
       "    <tr>\n",
       "      <th>3</th>\n",
       "      <td>AAAA (Very Good)</td>\n",
       "      <td>120</td>\n",
       "    </tr>\n",
       "    <tr>\n",
       "      <th>4</th>\n",
       "      <td>AAAA+ (Outstanding)</td>\n",
       "      <td>38</td>\n",
       "    </tr>\n",
       "    <tr>\n",
       "      <th>5</th>\n",
       "      <td>AAAAA (Exceptional)</td>\n",
       "      <td>6</td>\n",
       "    </tr>\n",
       "  </tbody>\n",
       "</table>\n",
       "</div>"
      ],
      "text/plain": [
       "                Rating  Total_colleges\n",
       "0            No Rating            6409\n",
       "1          AAA+ (Good)             217\n",
       "2  AAA (Above Average)             159\n",
       "3     AAAA (Very Good)             120\n",
       "4  AAAA+ (Outstanding)              38\n",
       "5  AAAAA (Exceptional)               6"
      ]
     },
     "execution_count": 11,
     "metadata": {},
     "output_type": "execute_result"
    }
   ],
   "source": [
    "df_rating = df.Rating.value_counts().reset_index()\n",
    "df_rating.columns = ['Rating', 'Total_colleges']\n",
    "df_rating"
   ]
  },
  {
   "cell_type": "markdown",
   "metadata": {},
   "source": [
    "Here also we see that we have no rating for 6409 data. So we need to impute these as well."
   ]
  },
  {
   "cell_type": "code",
   "execution_count": 12,
   "metadata": {
    "scrolled": true
   },
   "outputs": [
    {
     "data": {
      "text/plain": [
       "1473"
      ]
     },
     "execution_count": 12,
     "metadata": {},
     "output_type": "execute_result"
    }
   ],
   "source": [
    "df[df['Fee'] ==0]['Fee'].count()"
   ]
  },
  {
   "cell_type": "markdown",
   "metadata": {},
   "source": [
    "Note: Fee data for 1473 colleges are missing, we should take care of these as well."
   ]
  },
  {
   "cell_type": "markdown",
   "metadata": {},
   "source": [
    "**Types of Sectors of the colleges**"
   ]
  },
  {
   "cell_type": "code",
   "execution_count": 13,
   "metadata": {},
   "outputs": [
    {
     "data": {
      "text/html": [
       "<div>\n",
       "<style scoped>\n",
       "    .dataframe tbody tr th:only-of-type {\n",
       "        vertical-align: middle;\n",
       "    }\n",
       "\n",
       "    .dataframe tbody tr th {\n",
       "        vertical-align: top;\n",
       "    }\n",
       "\n",
       "    .dataframe thead th {\n",
       "        text-align: right;\n",
       "    }\n",
       "</style>\n",
       "<table border=\"1\" class=\"dataframe\">\n",
       "  <thead>\n",
       "    <tr style=\"text-align: right;\">\n",
       "      <th></th>\n",
       "      <th>Sector</th>\n",
       "      <th>No. of colleges</th>\n",
       "    </tr>\n",
       "  </thead>\n",
       "  <tbody>\n",
       "    <tr>\n",
       "      <th>0</th>\n",
       "      <td>Private</td>\n",
       "      <td>5612</td>\n",
       "    </tr>\n",
       "    <tr>\n",
       "      <th>1</th>\n",
       "      <td>Public/Government</td>\n",
       "      <td>1332</td>\n",
       "    </tr>\n",
       "    <tr>\n",
       "      <th>2</th>\n",
       "      <td>No Sector</td>\n",
       "      <td>5</td>\n",
       "    </tr>\n",
       "  </tbody>\n",
       "</table>\n",
       "</div>"
      ],
      "text/plain": [
       "              Sector  No. of colleges\n",
       "0            Private             5612\n",
       "1  Public/Government             1332\n",
       "2          No Sector                5"
      ]
     },
     "execution_count": 13,
     "metadata": {},
     "output_type": "execute_result"
    }
   ],
   "source": [
    "# Sector wise division of the colleges:\n",
    "sector_wise = pd.DataFrame(df.Sector.value_counts()).reset_index()\n",
    "sector_wise.columns=['Sector', 'No. of colleges']\n",
    "sector_wise"
   ]
  },
  {
   "cell_type": "markdown",
   "metadata": {},
   "source": [
    "There are only around 1.3k government colleges compared to 5.6k Private colleges."
   ]
  },
  {
   "cell_type": "markdown",
   "metadata": {},
   "source": [
    "#### Encoding the Rating to ordinal values"
   ]
  },
  {
   "cell_type": "code",
   "execution_count": 14,
   "metadata": {},
   "outputs": [],
   "source": [
    "# set(df.Rating)"
   ]
  },
  {
   "cell_type": "code",
   "execution_count": 15,
   "metadata": {},
   "outputs": [
    {
     "data": {
      "text/html": [
       "<div>\n",
       "<style scoped>\n",
       "    .dataframe tbody tr th:only-of-type {\n",
       "        vertical-align: middle;\n",
       "    }\n",
       "\n",
       "    .dataframe tbody tr th {\n",
       "        vertical-align: top;\n",
       "    }\n",
       "\n",
       "    .dataframe thead th {\n",
       "        text-align: right;\n",
       "    }\n",
       "</style>\n",
       "<table border=\"1\" class=\"dataframe\">\n",
       "  <thead>\n",
       "    <tr style=\"text-align: right;\">\n",
       "      <th></th>\n",
       "      <th>index</th>\n",
       "      <th>Sector</th>\n",
       "      <th>Review_Count</th>\n",
       "      <th>Fee</th>\n",
       "      <th>Exam</th>\n",
       "      <th>State</th>\n",
       "      <th>Rating_encode</th>\n",
       "    </tr>\n",
       "  </thead>\n",
       "  <tbody>\n",
       "    <tr>\n",
       "      <th>0</th>\n",
       "      <td>0</td>\n",
       "      <td>Private</td>\n",
       "      <td>56</td>\n",
       "      <td>0</td>\n",
       "      <td>NaN</td>\n",
       "      <td>Uttarakhand</td>\n",
       "      <td>3</td>\n",
       "    </tr>\n",
       "    <tr>\n",
       "      <th>1</th>\n",
       "      <td>1</td>\n",
       "      <td>Private</td>\n",
       "      <td>153</td>\n",
       "      <td>1540000</td>\n",
       "      <td>MET</td>\n",
       "      <td>Karnataka</td>\n",
       "      <td>3</td>\n",
       "    </tr>\n",
       "    <tr>\n",
       "      <th>2</th>\n",
       "      <td>2</td>\n",
       "      <td>Private</td>\n",
       "      <td>328</td>\n",
       "      <td>1000000</td>\n",
       "      <td>JEE Main</td>\n",
       "      <td>Tamil Nadu</td>\n",
       "      <td>3</td>\n",
       "    </tr>\n",
       "    <tr>\n",
       "      <th>3</th>\n",
       "      <td>3</td>\n",
       "      <td>Private</td>\n",
       "      <td>350</td>\n",
       "      <td>780000</td>\n",
       "      <td>VITEEE</td>\n",
       "      <td>Tamil Nadu</td>\n",
       "      <td>3</td>\n",
       "    </tr>\n",
       "    <tr>\n",
       "      <th>4</th>\n",
       "      <td>4</td>\n",
       "      <td>Private</td>\n",
       "      <td>58</td>\n",
       "      <td>0</td>\n",
       "      <td>NaN</td>\n",
       "      <td>Karnataka</td>\n",
       "      <td>0</td>\n",
       "    </tr>\n",
       "  </tbody>\n",
       "</table>\n",
       "</div>"
      ],
      "text/plain": [
       "   index   Sector  Review_Count      Fee        Exam        State  \\\n",
       "0      0  Private            56        0         NaN  Uttarakhand   \n",
       "1      1  Private           153  1540000        MET     Karnataka   \n",
       "2      2  Private           328  1000000   JEE Main    Tamil Nadu   \n",
       "3      3  Private           350   780000     VITEEE    Tamil Nadu   \n",
       "4      4  Private            58        0         NaN    Karnataka   \n",
       "\n",
       "   Rating_encode  \n",
       "0              3  \n",
       "1              3  \n",
       "2              3  \n",
       "3              3  \n",
       "4              0  "
      ]
     },
     "execution_count": 15,
     "metadata": {},
     "output_type": "execute_result"
    }
   ],
   "source": [
    "Rating_dict = {'No Rating': 0, 'AAA (Above Average)': 1, 'AAA+ (Good)': 2, 'AAAA (Very Good)': 3, 'AAAA+ (Outstanding)': 4, 'AAAAA (Exceptional)': 5}\n",
    "df['Rating_encode'] = df.Rating.map(Rating_dict)\n",
    "df = df[['index', 'Sector', 'Review_Count','Fee', 'Exam', 'State', 'Rating_encode']]\n",
    "df.head()"
   ]
  },
  {
   "cell_type": "markdown",
   "metadata": {},
   "source": [
    "### IMPUTING MISSING VALUES:"
   ]
  },
  {
   "cell_type": "code",
   "execution_count": 16,
   "metadata": {},
   "outputs": [
    {
     "data": {
      "text/plain": [
       "Private              5612\n",
       "Public/Government    1332\n",
       "No Sector               5\n",
       "Name: Sector, dtype: int64"
      ]
     },
     "execution_count": 16,
     "metadata": {},
     "output_type": "execute_result"
    }
   ],
   "source": [
    "df['Sector'].value_counts()"
   ]
  },
  {
   "cell_type": "code",
   "execution_count": 17,
   "metadata": {},
   "outputs": [],
   "source": [
    "# Diving the dataset to Public and Private sectors\n",
    "df_Private = df[(df['Sector'] == \"Private\")]\n",
    "df_Private = df_Private.values\n",
    "df_Public = df[(df['Sector'] == \"Public/Government\")]\n",
    "df_Public = df_Public.values"
   ]
  },
  {
   "cell_type": "code",
   "execution_count": 18,
   "metadata": {},
   "outputs": [],
   "source": [
    "# Resaping columns with missing values in order to apply the imputation:\n",
    "df_r = df_Private[:, 6].reshape(5612, 1)\n",
    "df_f = df_Private[:, 3].reshape(5612, 1)\n",
    "df_r1 = df_Public[:, 6].reshape(1332, 1)\n",
    "df_f1 = df_Public[:, 3].reshape(1332, 1)"
   ]
  },
  {
   "cell_type": "code",
   "execution_count": 19,
   "metadata": {},
   "outputs": [],
   "source": [
    "# Imputing missing values of Private Sector colleges. Column Fees using mean and Rating using median.\n",
    "imputer = SimpleImputer(missing_values = 0, strategy = 'median')\n",
    "imputer.fit(df_r)\n",
    "df_r = imputer.transform(df_r)\n",
    "imputer = SimpleImputer(missing_values = 0, strategy = 'mean')\n",
    "imputer.fit(df_f)\n",
    "df_f = imputer.transform(df_f)"
   ]
  },
  {
   "cell_type": "code",
   "execution_count": 20,
   "metadata": {},
   "outputs": [],
   "source": [
    "# Imputing missing values of Public/Government Sector colleges. Column Fees using mean and Rating using median.\n",
    "imputer = SimpleImputer(missing_values = 0, strategy = 'median')\n",
    "imputer.fit(df_r1)\n",
    "df_r1 = imputer.transform(df_r1)\n",
    "imputer  = SimpleImputer(missing_values = 0, strategy = 'mean')\n",
    "imputer.fit(df_f1)\n",
    "df_f1 = imputer.transform(df_f1)"
   ]
  },
  {
   "cell_type": "code",
   "execution_count": 21,
   "metadata": {},
   "outputs": [],
   "source": [
    "# Reshaping back to original shape:\n",
    "df_r = df_r.reshape(5612,)\n",
    "df_f = df_f.reshape(5612,)\n",
    "df_r1 = df_r1.reshape(1332,)\n",
    "df_f1 = df_f1.reshape(1332,)"
   ]
  },
  {
   "cell_type": "code",
   "execution_count": 22,
   "metadata": {},
   "outputs": [],
   "source": [
    "#Replacing original column with imputed columns\n",
    "df_Private[: , 3] = df_f\n",
    "df_Private[: , 6] = df_r\n",
    "df_Public[:, 3] = df_f1\n",
    "df_Public[:, 6] = df_r1"
   ]
  },
  {
   "cell_type": "code",
   "execution_count": 100,
   "metadata": {},
   "outputs": [],
   "source": [
    "df_Private = pd.DataFrame(df_Private)\n",
    "df_Public = pd.DataFrame(df_Public)"
   ]
  },
  {
   "cell_type": "code",
   "execution_count": 101,
   "metadata": {},
   "outputs": [
    {
     "data": {
      "text/plain": [
       "(6944, 6)"
      ]
     },
     "execution_count": 101,
     "metadata": {},
     "output_type": "execute_result"
    }
   ],
   "source": [
    "#Joining the imputed data\n",
    "df = df_Public.append(df_Private)\n",
    "df = df[[1, 2, 3, 4, 5, 6]]\n",
    "df.columns = ['Sector', 'Reviews_count', 'Fees', 'Exam', 'State', 'Rating']\n",
    "df.shape"
   ]
  },
  {
   "cell_type": "code",
   "execution_count": 102,
   "metadata": {},
   "outputs": [],
   "source": [
    "df.reset_index(inplace = True)"
   ]
  },
  {
   "cell_type": "markdown",
   "metadata": {},
   "source": [
    "### VISUALIZING THE DATASET :"
   ]
  },
  {
   "cell_type": "markdown",
   "metadata": {},
   "source": [
    "### Univariate Visualization:"
   ]
  },
  {
   "cell_type": "code",
   "execution_count": 26,
   "metadata": {},
   "outputs": [
    {
     "data": {
      "image/png": "[encoded data removed]",
      "text/plain": [
       "<Figure size 720x720 with 1 Axes>"
      ]
     },
     "metadata": {
      "needs_background": "light"
     },
     "output_type": "display_data"
    }
   ],
   "source": [
    "order = df['State'].value_counts().index\n",
    "val = df['State'].value_counts().values\n",
    "color = sns.color_palette()[0]\n",
    "plt.figure(figsize = (10, 10));\n",
    "sns.countplot(data = df, y = 'State', order = order, color = color);\n",
    "value_df = df['State'].value_counts()\n",
    "tot = df['State'].value_counts().sum()\n",
    "for i in range(value_df.shape[0]):\n",
    "    count = value_df[i]\n",
    "    pct = '{:0.1f}%'.format(100*count/tot)\n",
    "    plt.text(count+1, i, pct, va = 'center');"
   ]
  },
  {
   "cell_type": "markdown",
   "metadata": {},
   "source": [
    "#### Distribution of Fees:"
   ]
  },
  {
   "cell_type": "code",
   "execution_count": 83,
   "metadata": {},
   "outputs": [],
   "source": [
    "#REmoving few outliers from dataset:\n",
    "df = df[df['Fees'] != df['Fees'].max()]"
   ]
  },
  {
   "cell_type": "code",
   "execution_count": 103,
   "metadata": {},
   "outputs": [
    {
     "data": {
      "text/plain": [
       "4840000.0"
      ]
     },
     "execution_count": 103,
     "metadata": {},
     "output_type": "execute_result"
    }
   ],
   "source": [
    "df['Fees'].max()"
   ]
  },
  {
   "cell_type": "code",
   "execution_count": 97,
   "metadata": {},
   "outputs": [
    {
     "data": {
      "image/png": "[encoded data removed]",
      "text/plain": [
       "<Figure size 576x360 with 1 Axes>"
      ]
     },
     "metadata": {
      "needs_background": "light"
     },
     "output_type": "display_data"
    }
   ],
   "source": [
    "plt.figure(figsize = (8, 5))\n",
    "bin_edges = np.arange(0, df['Fees'].max()+5, 10000)\n",
    "plt.hist(x = 'Fees', data = df, bins = bin_edges)\n",
    "plt.xlim(0,500000)\n",
    "plt.ylabel('No of colleges')\n",
    "plt.xlabel('Fees');"
   ]
  },
  {
   "cell_type": "code",
   "execution_count": 93,
   "metadata": {},
   "outputs": [
    {
     "data": {
      "image/png": "[encoded data removed]",
      "text/plain": [
       "<Figure size 432x288 with 1 Axes>"
      ]
     },
     "metadata": {
      "needs_background": "light"
     },
     "output_type": "display_data"
    }
   ],
   "source": [
    "sns.distplot(df['Fees'])\n",
    "plt.xlim(0,500000);"
   ]
  },
  {
   "cell_type": "code",
   "execution_count": 110,
   "metadata": {},
   "outputs": [
    {
     "name": "stdout",
     "output_type": "stream",
     "text": [
      "222815.17877498697\n"
     ]
    },
    {
     "data": {
      "text/plain": [
       "count    3.841610\n",
       "mean     5.347945\n",
       "std      5.296425\n",
       "min      2.255273\n",
       "25%      5.064458\n",
       "50%      5.302764\n",
       "75%      5.414973\n",
       "max      6.684845\n",
       "Name: Fees, dtype: float64"
      ]
     },
     "execution_count": 110,
     "metadata": {},
     "output_type": "execute_result"
    }
   ],
   "source": [
    "print(df['Fees'].mean())\n",
    "np.log10(df['Fees'].astype(int).describe())"
   ]
  },
  {
   "cell_type": "code",
   "execution_count": 116,
   "metadata": {},
   "outputs": [
    {
     "data": {
      "image/png": "[encoded data removed]",
      "text/plain": [
       "<Figure size 432x288 with 1 Axes>"
      ]
     },
     "metadata": {
      "needs_background": "light"
     },
     "output_type": "display_data"
    }
   ],
   "source": [
    "bin_edges = 10 ** np.arange(2, 7+0.1, 0.1)\n",
    "ticks = [1000, 5000, 10000, 50000, 100000, 500000, 1000000, 5000000]\n",
    "labels = ['{}'.format(v) for v in ticks]\n",
    "plt.hist(x = 'Fees', data = df, bins = bin_edges)\n",
    "plt.xscale('log')\n",
    "plt.xticks(ticks, labels, rotation = 60);"
   ]
  },
  {
   "cell_type": "markdown",
   "metadata": {},
   "source": [
    "It is a right skewed distribution, bimodal and having a mean of 221113.05"
   ]
  },
  {
   "cell_type": "code",
   "execution_count": 30,
   "metadata": {},
   "outputs": [
    {
     "data": {
      "image/png": "[encoded data removed]",
      "text/plain": [
       "<Figure size 432x288 with 1 Axes>"
      ]
     },
     "metadata": {
      "needs_background": "light"
     },
     "output_type": "display_data"
    }
   ],
   "source": [
    "df_fee1 = df[df['Fees'] != 0]['Sector'].value_counts().reset_index()\n",
    "df_fee1.columns = ['Sector', 'No of colleges']\n",
    "df_fee1\n",
    "ax = df_fee1.plot.bar(x='Sector', y='No of colleges', rot=0)"
   ]
  },
  {
   "cell_type": "code",
   "execution_count": 31,
   "metadata": {},
   "outputs": [],
   "source": [
    "df_1 = df[['index', 'State', 'Sector']].groupby(['State', 'Sector']).count().reset_index().sort_values('index', ascending=False)"
   ]
  },
  {
   "cell_type": "code",
   "execution_count": 32,
   "metadata": {},
   "outputs": [
    {
     "data": {
      "image/png": "[encoded data removed]",
      "text/plain": [
       "<Figure size 1080x1440 with 1 Axes>"
      ]
     },
     "metadata": {
      "needs_background": "light"
     },
     "output_type": "display_data"
    }
   ],
   "source": [
    "plt.figure(figsize=(15, 20))\n",
    "sns.barplot(y=\"State\", hue=\"Sector\", x=\"index\", data=df_1)\n",
    "plt.xticks(fontsize=14, rotation=60)\n",
    "plt.yticks(fontsize=10)\n",
    "# plt.rcParams.update({'font.size': 22})\n",
    "plt.rcParams[\"font.size\"] = \"10\"\n",
    "plt.ylabel('No. of colleges')\n",
    "value_df = df_1['index'].value_counts().index.sort_values(ascending=False)\n",
    "tot = df['State'].value_counts().sum()"
   ]
  },
  {
   "cell_type": "markdown",
   "metadata": {},
   "source": [
    "#### Plotting Fee and Reviews_count and sector of the college:"
   ]
  },
  {
   "cell_type": "code",
   "execution_count": 134,
   "metadata": {},
   "outputs": [],
   "source": [
    "df['Fees'] = df['Fees'].astype(int)"
   ]
  },
  {
   "cell_type": "code",
   "execution_count": 139,
   "metadata": {},
   "outputs": [
    {
     "data": {
      "image/png": "[encoded data removed]",
      "text/plain": [
       "<Figure size 432x288 with 1 Axes>"
      ]
     },
     "metadata": {
      "needs_background": "light"
     },
     "output_type": "display_data"
    }
   ],
   "source": [
    "plt.scatter(data = df, x = 'Reviews_count', y = 'Fees', alpha = 0.5);"
   ]
  },
  {
   "cell_type": "markdown",
   "metadata": {},
   "source": [
    "#### Plotting Fee and Rating of the college:"
   ]
  },
  {
   "cell_type": "code",
   "execution_count": 143,
   "metadata": {},
   "outputs": [
    {
     "data": {
      "image/png": "[encoded data removed]",
      "text/plain": [
       "<Figure size 432x288 with 1 Axes>"
      ]
     },
     "metadata": {
      "needs_background": "light"
     },
     "output_type": "display_data"
    }
   ],
   "source": [
    "sns.violinplot(data = df, x = 'Rating', y = 'Fees', inner = None);"
   ]
  },
  {
   "cell_type": "markdown",
   "metadata": {},
   "source": [
    "There does seem to be positive corelation between Fee and Rating, colleges with Ratings 4 and 5 have higher fees compared to other ratings. There seem to be few outliers in colleges with rating 1 and 2. "
   ]
  },
  {
   "cell_type": "markdown",
   "metadata": {},
   "source": [
    "#### Plotting Fee and Sector of college"
   ]
  },
  {
   "cell_type": "code",
   "execution_count": 148,
   "metadata": {},
   "outputs": [
    {
     "data": {
      "image/png": "[encoded data removed]",
      "text/plain": [
       "<Figure size 491.5x360 with 1 Axes>"
      ]
     },
     "metadata": {
      "needs_background": "light"
     },
     "output_type": "display_data"
    }
   ],
   "source": [
    "g = sns.FacetGrid(data = df, hue = 'Sector', height = 5)\n",
    "g.map(plt.scatter, 'index', 'Fees', alpha = 0.5)\n",
    "g.add_legend();"
   ]
  },
  {
   "cell_type": "markdown",
   "metadata": {},
   "source": [
    "Private Colleges have a very varied fees from low to higher fees and there are lot of outliers, where as the government colleges have uniform pattern. "
   ]
  },
  {
   "cell_type": "code",
   "execution_count": null,
   "metadata": {},
   "outputs": [],
   "source": []
  }
 ],
 "metadata": {
  "kernelspec": {
   "display_name": "Python 3",
   "language": "python",
   "name": "python3"
  },
  "language_info": {
   "codemirror_mode": {
    "name": "ipython",
    "version": 3
   },
   "file_extension": ".py",
   "mimetype": "text/x-python",
   "name": "python",
   "nbconvert_exporter": "python",
   "pygments_lexer": "ipython3",
   "version": "3.7.3"
  }
 },
 "nbformat": 4,
 "nbformat_minor": 2
}
